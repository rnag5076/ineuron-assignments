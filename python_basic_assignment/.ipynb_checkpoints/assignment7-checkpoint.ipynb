{
 "cells": [
  {
   "cell_type": "code",
   "execution_count": 1,
   "id": "0904da33",
   "metadata": {},
   "outputs": [
    {
     "data": {
      "text/plain": [
       "re.compile(r'', re.UNICODE)"
      ]
     },
     "execution_count": 1,
     "metadata": {},
     "output_type": "execute_result"
    }
   ],
   "source": [
    "#1. What is the name of the feature responsible for generating Regex objects?\n",
    "\n",
    "#Ans. the feature responsible for generating regex objects is the re.compile() function.\n",
    "#    the purpose of compile method is to compile the regex pattern which will be compiled later\n",
    "\n",
    "import re\n",
    "re.compile(r\"\")"
   ]
  },
  {
   "cell_type": "code",
   "execution_count": 2,
   "id": "f2ec0523",
   "metadata": {},
   "outputs": [],
   "source": [
    "#2. Why do raw strings often appear in Regex objects?\n",
    "\n",
    "#Ans. If we are having any backslashes inside our string and we don't want it to be escaped so we use\n",
    "#     raw strings that is why they appear often."
   ]
  },
  {
   "cell_type": "code",
   "execution_count": 6,
   "id": "0c63910d",
   "metadata": {},
   "outputs": [
    {
     "name": "stdout",
     "output_type": "stream",
     "text": [
      "<re.Match object; span=(7, 8), match=' '>\n",
      "None\n"
     ]
    }
   ],
   "source": [
    "#3. What is the return value of the search() method?\n",
    "\n",
    "#Ans. Search Method looks for a match to the pattern and then returns the matching object.\n",
    "#     Returns None if no match is found.\n",
    "\n",
    "import re\n",
    "\n",
    "txt = \"Ineuron is the best company.\"\n",
    "x = re.search(\"\\s\", txt)\n",
    "\n",
    "print(x)\n",
    "\n",
    "y = re.search(\"z\", txt)\n",
    "print(y)\n"
   ]
  },
  {
   "cell_type": "code",
   "execution_count": 8,
   "id": "244adf80",
   "metadata": {},
   "outputs": [
    {
     "name": "stdout",
     "output_type": "stream",
     "text": [
      "Number found: 56733 73484\n"
     ]
    }
   ],
   "source": [
    "#4. From a Match item, how do you get the actual strings that match the pattern?\n",
    "\n",
    "#Ans. By using group() function we can get the actual strings that match the pattern\n",
    "\n",
    "import re\n",
    "regex = re.compile(r'\\d\\d\\d\\d\\d \\d\\d\\d\\d\\d')\n",
    "match = regex.search('56733 73484')\n",
    "print('Number found: ' + match.group())"
   ]
  },
  {
   "cell_type": "code",
   "execution_count": 9,
   "id": "636d0098",
   "metadata": {},
   "outputs": [
    {
     "name": "stdout",
     "output_type": "stream",
     "text": [
      "Number found: 342-546-2346\n",
      "Number found: 342\n",
      "Number found: 546-2346\n"
     ]
    }
   ],
   "source": [
    "#5. In the regex which created from the r'(\\d\\d\\d)-(\\d\\d\\d-\\d\\d\\d\\d)', \n",
    "#   what does group zero cover? Group 2? Group 1?\n",
    "\n",
    "#Ans. when we add paranthesis within the regular expression it creates different groups. \n",
    "#     here we can see 2 groups have been made. so for accessign group1 we are going to pass\n",
    "#     1 to the group function and for group 2 we are going to pass 2 to the group function.When we\n",
    "#     pass 0 to the group function it gives the entire string that matches the pattern.\n",
    "\n",
    "import re\n",
    "regex = re.compile(r'(\\d\\d\\d)-(\\d\\d\\d-\\d\\d\\d\\d)')\n",
    "match = regex.search('342-546-2346')\n",
    "print('Number found: ' + match.group(0))\n",
    "print('Number found: ' + match.group(1))\n",
    "print('Number found: ' + match.group(2))"
   ]
  },
  {
   "cell_type": "code",
   "execution_count": 14,
   "id": "c90d2b16",
   "metadata": {},
   "outputs": [],
   "source": [
    "#6. In standard expression syntax, parentheses and intervals have distinct meanings. How can you tell a regex that you want it to fit real parentheses and periods?\n",
    "\n",
    "#Ans. We use the escape character backslash '\\' to tell the regex to fit real parentheses and periods.\n",
    "#     for example:\n",
    "#     \\\\ (escapes the backslash)\n",
    "#     \\[ (escapes the bracket)\n",
    "#     \\{ (escapes the curly brace)\n",
    "#     \\. (escapes the dot)  "
   ]
  },
  {
   "cell_type": "code",
   "execution_count": 18,
   "id": "a7b97a7c",
   "metadata": {},
   "outputs": [
    {
     "name": "stdout",
     "output_type": "stream",
     "text": [
      "['R', 'o', 'm', 'i', 'l', 'N', 'a', 'g', 'a', 'r']\n",
      "[('Ro', 'mil')]\n"
     ]
    }
   ],
   "source": [
    "#7. The findall() method returns a string list or a list of string tuples. What causes it to return one of the two options?\n",
    "\n",
    "#Ans. The re.findall() function returns a list of all non-overlapping matches present inside the string.\n",
    "#     if inside the pattern more than one capturing groups are present then it returns a list of tuples else\n",
    "#     will return a list of strings.\n",
    "\n",
    "a=\"Romil, Nagar\"\n",
    "print(re.findall(\"[\\w][\\n]*\",a))\n",
    "\n",
    "a=\"Romil, Nagar\"\n",
    "print(re.findall(\"(Ro)(mil)\",a))"
   ]
  },
  {
   "cell_type": "code",
   "execution_count": 20,
   "id": "34ed24fe",
   "metadata": {},
   "outputs": [
    {
     "name": "stdout",
     "output_type": "stream",
     "text": [
      "['student']\n"
     ]
    }
   ],
   "source": [
    "#8. In standard expressions, what does the | character mean?\n",
    "\n",
    "#Ans.  The '|' charater represents the OR operator. A|B will match any string that matches either A or B.\n",
    "\n",
    "import re\n",
    "\n",
    "txt = \"I'm a student of ineuron full stack data science batch\"\n",
    "x = re.findall(\"student|teacher\", txt)\n",
    "print(x)"
   ]
  },
  {
   "cell_type": "code",
   "execution_count": 21,
   "id": "8dfb4074",
   "metadata": {},
   "outputs": [],
   "source": [
    "#9. In regular expressions, what does the character stand for?\n",
    "\n",
    "#Ans. '?' character results in matching 0 or 1 repetitions of the preceding regular expressions.\n",
    "#     for example ab? will match either ‘a’ or ‘ab’."
   ]
  },
  {
   "cell_type": "code",
   "execution_count": 25,
   "id": "87e56738",
   "metadata": {},
   "outputs": [
    {
     "name": "stdout",
     "output_type": "stream",
     "text": [
      "[]\n",
      "['test10']\n"
     ]
    }
   ],
   "source": [
    "#10.In regular expressions, what is the difference between the + and * characters?\n",
    "\n",
    "#Ans. '+' character requires atleast one occurence of the pattern or group to match to succeed whereas\n",
    "#     '*' character match succeeds regardless of the presence of the search string\n",
    "\n",
    "import re\n",
    "\n",
    "txt = \"test10\"\n",
    "x = re.findall(\"\\d+test\\d+\", txt)\n",
    "y = re.findall(\"\\d*test\\d*\", txt)\n",
    "print(x)\n",
    "print(y)"
   ]
  },
  {
   "cell_type": "code",
   "execution_count": 29,
   "id": "3be7129c",
   "metadata": {},
   "outputs": [
    {
     "name": "stdout",
     "output_type": "stream",
     "text": [
      "[['a////b'], ['a/////b']]\n",
      "[['a////b'], []]\n"
     ]
    }
   ],
   "source": [
    "#11. What is the difference between {4} and {4,5} in regular expression?\n",
    "\n",
    "#Ans. {4} means that it requires 4 occurences of that pattern or group whereas\n",
    "#     {4,5} means that it requires atleast 4 occurences and atmost 5 occurences of that pattern or group \n",
    "#     for the pattern to match.\n",
    "#     For example, a/{4,5}b will match 'a/b', 'a//b', and 'a///b'. It won’t match 'ab', \n",
    "#     which has no slashes, or 'a////b', which has four.\n",
    "\n",
    "import re\n",
    "\n",
    "txt = ['a////b','a/////b']\n",
    "a=[]\n",
    "b=[]\n",
    "for i in txt:\n",
    "    x = re.findall(\"a/{4,5}b\", i)\n",
    "    y = re.findall(\"a/{4}b\", i)\n",
    "    a.append(x)\n",
    "    b.append(y)\n",
    "print(a)\n",
    "print(b)"
   ]
  },
  {
   "cell_type": "code",
   "execution_count": 30,
   "id": "03f2c083",
   "metadata": {},
   "outputs": [],
   "source": [
    "#12. What do you mean by the \\d, \\w, and \\s shorthand character classes signify in regular expressions?\n",
    "\n",
    "#Ans. \\w: represents the regex range [A-Za-z0-9_], and it matches a single uppercase character, lowercase character, digit or underscore\n",
    "#     \\d: represents the regex range [0-9], and it matches a single digit character\n",
    "#     \\s: represents the regex range [ \\t\\r\\n\\f\\v], matching a single space, tab, carriage return, line break, form feed, or vertical tab"
   ]
  },
  {
   "cell_type": "code",
   "execution_count": 31,
   "id": "e264b3dc",
   "metadata": {},
   "outputs": [],
   "source": [
    "#13. What do means by \\D, \\W, and \\S shorthand character classes signify in regular expressions?\n",
    "\n",
    "#Ans. \\W: represents the regex range [^A-Za-z0-9_], matching any character that is not included in the range represented by \\w\n",
    "#     \\D: represents the regex range [^0-9], matching any character that is not included in the range represented by \\d\n",
    "#     \\S: represents the regex range [^ \\t\\r\\n\\f\\v], matching any character that is not included in the range represented by \\s"
   ]
  },
  {
   "cell_type": "code",
   "execution_count": 32,
   "id": "3f0e8b99",
   "metadata": {},
   "outputs": [],
   "source": [
    "#14. What is the difference between .*? and .*?\n",
    "\n",
    "#Ans. Assuming you are questioning about the difference between .* and .*?\n",
    "#     Repetition in regex by default is greedy. in case .* it tries to match a pattern greedily and \n",
    "#     then backtracks one single character at a time until the match is found. whereas in case of .*?\n",
    "#     it is reluctant. as we know ? acts as an repetition quantifier which changes the behavior into non-greedy\n",
    "#     for example if we take the input tttRiiNppppRqqqNllll\n",
    "#     The patterns yield the following matches:\n",
    "#     R.*N yields 1 match: RiiNppppRqqqN \n",
    "#     R.*?N yields 2 matches: RiiN and RqqqN\n",
    "#     Let's first focus on what A.*Z does. When it matched the first A, the .*, being greedy, first tries to match as many . as possible.\n",
    "\n",
    "#     tttRiiNppppRqqqNllll\n",
    "#        \\_______________/\n",
    "#         R.* matched, N can't match\n",
    "#     Since the N doesn't match, the engine backtracks, and .* must then match one fewer .:\n",
    "\n",
    "#     tttRiiNppppRqqqNllll\n",
    "#        \\______________/\n",
    "#         R.* matched, N still can't match\n",
    "#     This happens a few more times, until finally we come to this:\n",
    "\n",
    "#     tttRiiNppppRqqqNllll\n",
    "#        \\__________/\n",
    "#         R.* matched, N can now match\n",
    "#     Now N can match, so the overall pattern matches:\n",
    "\n",
    "#     tttRiiNppppRqqqNllll\n",
    "#        \\___________/\n",
    "#         R.*N matched\n",
    "#     By contrast, the reluctant repetition in R.*?N first matches as few \".\" as possible, and then taking more \".\" as necessary.\n",
    "#     This explains why it finds two matches in the input.\n",
    "\n",
    "#     tttRiiNppppRqqqNllll\n",
    "#        \\__/r   \\___/r      r = reluctant\n",
    "#         \\____g____/        g = greedy"
   ]
  },
  {
   "cell_type": "code",
   "execution_count": 42,
   "id": "dbd8f549",
   "metadata": {},
   "outputs": [
    {
     "name": "stdout",
     "output_type": "stream",
     "text": [
      "<re.Match object; span=(0, 2), match='a0'>\n"
     ]
    }
   ],
   "source": [
    "#15. What is the syntax for matching both numbers and lowercase letters with a character class?\n",
    "\n",
    "#Ans. as it is mentioned that we require both numbers and lowercase letters to exist in the string atleast once\n",
    "#     so we will take + for this.^ and $ indicates the beginning and end of the string respectively.\n",
    "\n",
    "import re\n",
    "txt='a0'\n",
    "print(re.search('^[0-9a-z]+$',txt))"
   ]
  },
  {
   "cell_type": "code",
   "execution_count": 5,
   "id": "bec5fb36",
   "metadata": {},
   "outputs": [
    {
     "name": "stdout",
     "output_type": "stream",
     "text": [
      "<re.Match object; span=(0, 5), match='romIL'>\n"
     ]
    }
   ],
   "source": [
    "#16. What is the procedure for making a normal expression in regax case insensitive?\n",
    "\n",
    "#Ans. In order to make a normal expression in regex case insensitive we use re.IGNORECASE. we pass this\n",
    "#     argument when we compile the pattern.\n",
    "\n",
    "import re\n",
    "regex_name = re.compile(r'ROMIL', re.IGNORECASE)\n",
    "res=regex_name.search('romIL')\n",
    "print(res)"
   ]
  },
  {
   "cell_type": "code",
   "execution_count": 6,
   "id": "bc4c2614",
   "metadata": {},
   "outputs": [],
   "source": [
    "#17. What does the . character normally match? What does it match if re.DOTALL is passed as 2nd argument \n",
    "#    in re.compile()?\n",
    "\n",
    "#Ans. '.' charcter is used to match any character except the newline characters and if we want to match newline \n",
    "#     character too we need to use pass re.DOTALL as second arguemnt to the re.compile method."
   ]
  },
  {
   "cell_type": "code",
   "execution_count": 7,
   "id": "3b37a160",
   "metadata": {},
   "outputs": [
    {
     "name": "stdout",
     "output_type": "stream",
     "text": [
      "X drummers, X pipers, five rings, X hen\n"
     ]
    }
   ],
   "source": [
    "#18. If numReg = re.compile(r'\\d+'), what will numRegex.sub('X', '11 drummers, 10 pipers, five rings, 4 hen') \n",
    "#    return?\n",
    "\n",
    "#Ans. \\d is used for integers and can also be represented as [0-9]. '+' shows that atleast one occurence\n",
    "#     is necessary. sub function is used to substitute the matched string second argument with the first\n",
    "#     argument. so wherever in the string integer is there will get replaced by 'X'\n",
    "\n",
    "import re\n",
    "numReg = re.compile(r'\\d+')\n",
    "print(numReg.sub('X', '11 drummers, 10 pipers, five rings, 4 hen'))"
   ]
  },
  {
   "cell_type": "code",
   "execution_count": 9,
   "id": "e66a9e39",
   "metadata": {},
   "outputs": [],
   "source": [
    "#19. What does passing re.VERBOSE as the 2nd argument to re.compile() allow to do?\n",
    "\n",
    "#Ans. The re.VERBOSE argument when passed to re.compile method helps us to understand the pattern easily by\n",
    "#     allowing us to seperate the logical sections of pattern and write comments for better readability. when\n",
    "#     a line contains a '#' that is not in character class and is not preceded by an unescaped backslash, then \n",
    "#     all the characters after it will be ignored.\n",
    "#     it also helps to ignore the whitespaces within the pattern but there are some exceptions to it. it\n",
    "#     will not be able to ignore when:\n",
    "#     a) when it is inside a character class\n",
    "#     b) when preceded by an unescaped backslash\n",
    "#     c) when it exists within the tokens like *?,(?: or (?P\n",
    "\n",
    "import re\n",
    "regex_email = re.compile(r\"\"\"\n",
    "            ^([a-z0-9_\\.-]+)              # Username\n",
    "             \"\"\",re.VERBOSE)   "
   ]
  },
  {
   "cell_type": "code",
   "execution_count": 15,
   "id": "b4b55c73",
   "metadata": {},
   "outputs": [
    {
     "name": "stdout",
     "output_type": "stream",
     "text": [
      "<re.Match object; span=(0, 2), match='42'>\n",
      "<re.Match object; span=(0, 5), match='1,234'>\n",
      "<re.Match object; span=(0, 9), match='6,368,745'>\n",
      "None\n",
      "None\n"
     ]
    }
   ],
   "source": [
    "#20. How would you write a regex that match a number with comma for every three digits? It must match the given following:\n",
    "#    '42'\n",
    "#    '1,234'\n",
    "#    '6,368,745'\n",
    "#    but not the following:\n",
    "#    '12,34,567' (which has only two digits between the commas)\n",
    "#    '1234' (which lacks commas)\n",
    "\n",
    "#Ans. ^\\d{1,3}(,\\d{3})*$\n",
    "#     \\d{1,3} will include only those matches where there should be atleast 1 integer and not more than 3\n",
    "#     (,\\d{3})* will help us to ensure that there always exists one comma followed by three integers at the end\n",
    "\n",
    "import re\n",
    "reg=re.compile('^\\d{1,3}(,\\d{3})*$')\n",
    "a1='42'\n",
    "a2='1,234'\n",
    "a3='6,368,745'\n",
    "a4='12,34,567'\n",
    "a5='1234'\n",
    "print(reg.search(a1))\n",
    "print(reg.search(a2))\n",
    "print(reg.search(a3))\n",
    "\n",
    "print(reg.search(a4))\n",
    "print(reg.search(a5))\n"
   ]
  },
  {
   "cell_type": "code",
   "execution_count": 17,
   "id": "cd54a9ae",
   "metadata": {},
   "outputs": [
    {
     "name": "stdout",
     "output_type": "stream",
     "text": [
      "<re.Match object; span=(0, 15), match='Haruto Watanabe'>\n",
      "<re.Match object; span=(0, 14), match='Alice Watanabe'>\n",
      "<re.Match object; span=(0, 16), match='RoboCop Watanabe'>\n",
      "None\n",
      "None\n",
      "None\n",
      "None\n"
     ]
    }
   ],
   "source": [
    "#21. How would you write a regex that matches the full name of someone whose last name is Watanabe? \n",
    "#    You can assume that the first name that comes before it will always be one word that begins with a \n",
    "#    capital letter. The regex must match the following:\n",
    "\n",
    "#    'Haruto Watanabe'\n",
    "#    'Alice Watanabe'\n",
    "#    'RoboCop Watanabe'\n",
    "#    but not the following:\n",
    "#    'haruto Watanabe' (where the first name is not capitalized)\n",
    "#    'Mr. Watanabe' (where the preceding word has a nonletter character)\n",
    "#    'Watanabe' (which has no first name)\n",
    "#     'Haruto watanabe' (where Watanabe is not capitalized)\n",
    "\n",
    "#Ans. [A-Z][a-zA-Z]*\\sWatanabe\n",
    "#     [A-Z] will ensure that first letter is capital letter\n",
    "#     [a-zA-Z]* will take any letter after first capital letter but not anything other than letter\n",
    "#     \\sWatanabe will ensure that 'W' in watanabe is capitalized\n",
    "\n",
    "import re\n",
    "reg=re.compile('[A-Z][a-zA-Z]*\\sWatanabe')\n",
    "a1='Haruto Watanabe'\n",
    "a2='Alice Watanabe'\n",
    "a3='RoboCop Watanabe'\n",
    "\n",
    "a4='haruto Watanabe'\n",
    "a5='Mr. Watanabe'\n",
    "a6='Watanabe'\n",
    "a7='Haruto watanabe'\n",
    "\n",
    "print(reg.search(a1))\n",
    "print(reg.search(a2))\n",
    "print(reg.search(a3))\n",
    "\n",
    "print(reg.search(a4))\n",
    "print(reg.search(a5))\n",
    "print(reg.search(a6))\n",
    "print(reg.search(a7))"
   ]
  },
  {
   "cell_type": "code",
   "execution_count": 18,
   "id": "8e0813c9",
   "metadata": {},
   "outputs": [
    {
     "name": "stdout",
     "output_type": "stream",
     "text": [
      "<re.Match object; span=(0, 18), match='Alice eats apples.'>\n",
      "<re.Match object; span=(0, 14), match='Bob pets cats.'>\n",
      "<re.Match object; span=(0, 23), match='Carol throws baseballs.'>\n",
      "<re.Match object; span=(0, 20), match='Alice throws Apples.'>\n",
      "<re.Match object; span=(0, 14), match='BOB EATS CATS.'>\n",
      "None\n",
      "None\n",
      "None\n"
     ]
    }
   ],
   "source": [
    "#22. How would you write a regex that matches a sentence where the first word is either Alice, Bob, or Carol; \n",
    "#    the second word is either eats, pets, or throws; the third word is apples, cats, or baseballs; and the \n",
    "#    sentence ends with a period? This regex should be case-insensitive. It must match the following:\n",
    "\n",
    "#    'Alice eats apples.'\n",
    "#    'Bob pets cats.'\n",
    "#    'Carol throws baseballs.'\n",
    "#    'Alice throws Apples.'\n",
    "#    'BOB EATS CATS.'\n",
    "#    but not the following:\n",
    "#    'RoboCop eats apples.'\n",
    "#    'ALICE THROWS FOOTBALLS.'\n",
    "#    'Carol eats 7 cats.'\n",
    "\n",
    "#Ans. (Alice|Bob|Carol)\\s+(eats|pets|throws)\\s+(apples|cats|baseballs)\\.\n",
    "#     (Alice|Bob|Carol) anyone of them can be selected out of the three\n",
    "#     (eats|pets|throws) anyone of them can be selected out of the three\n",
    "#     (apples|cats|baseballs) anyone of them can be selected out of the three\n",
    "#     \\. will ensure that it ends with a period\n",
    "#     \\s ensures that there is a whitespace between the words\n",
    "\n",
    "import re\n",
    "reg=re.compile(r'(Alice|Bob|Carol)\\s+(eats|pets|throws)\\s+(apples|cats|baseballs)\\.', re.IGNORECASE)\n",
    "a1='Alice eats apples.'\n",
    "a2='Bob pets cats.'\n",
    "a3='Carol throws baseballs.'\n",
    "a4='Alice throws Apples.'\n",
    "a5='BOB EATS CATS.'\n",
    "\n",
    "a6='RoboCop eats apples.'\n",
    "a7='ALICE THROWS FOOTBALLS.'\n",
    "a8='Carol eats 7 cats.'\n",
    "\n",
    "print(reg.search(a1))\n",
    "print(reg.search(a2))\n",
    "print(reg.search(a3))\n",
    "print(reg.search(a4))\n",
    "print(reg.search(a5))\n",
    "\n",
    "print(reg.search(a6))\n",
    "print(reg.search(a7))\n",
    "print(reg.search(a8))"
   ]
  },
  {
   "cell_type": "code",
   "execution_count": null,
   "id": "54f4a63e",
   "metadata": {},
   "outputs": [],
   "source": []
  }
 ],
 "metadata": {
  "kernelspec": {
   "display_name": "Python 3",
   "language": "python",
   "name": "python3"
  },
  "language_info": {
   "codemirror_mode": {
    "name": "ipython",
    "version": 3
   },
   "file_extension": ".py",
   "mimetype": "text/x-python",
   "name": "python",
   "nbconvert_exporter": "python",
   "pygments_lexer": "ipython3",
   "version": "3.7.10"
  }
 },
 "nbformat": 4,
 "nbformat_minor": 5
}
