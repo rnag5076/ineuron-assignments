{
 "cells": [
  {
   "cell_type": "raw",
   "id": "95be4596",
   "metadata": {},
   "source": [
    "1. What are escape characters, and how do you use them?\n",
    "\n",
    "Escape characters are the characters used to insert characters that are illegal in a string. escape characters are used with a backslash('\\') followed by the character we want to insert.\n",
    "for example:- \"my name is \"romil\" and i'm a student of full stack data science batch\"\n",
    "\n",
    "now for fixing this problem we need to include escape character \"\\\"\n",
    "\n",
    "              \"my name is \\\"romil\"\\ and i'm a student of full stack data science batch\"\n",
    "\n",
    "There are many different escape characters like:\n",
    "\n",
    "\\'\t    Single Quote\t\n",
    "\\\\\t    Backslash\t\n",
    "\\n\t    New Line\t\n",
    "\\r\t    Carriage Return\t\n",
    "\\t\t    Tab\t\n",
    "\\b\t    Backspace\t\n",
    "\\f\t    Form Feed\t\n",
    "\\ooo\tOctal value\t\n",
    "\\xhh\tHex value\n",
    "\n",
    "\n",
    "print(\"Hello\\rWorld!\")\n",
    "print(\"Hello\\nHow are you?\")\n",
    "print(\"Hello\\tHow are you?\")\n",
    "print(\"How to print single quotes? \\'Single quotes\\'\")\n",
    "print(\"How to print double quotes? \\\"Double quotes\\\" \")\n",
    "print(\"How to print back slash? \\\\Black slash\\\\ \")\n",
    "print(\"Example of Back Space !!\\b\")\n",
    "print(\"\\123\")\n",
    "print(\"\\x54\")\n",
    "\n",
    "o/p:-   World!\n",
    "        Hello\n",
    "        How are you?\n",
    "        Hello\tHow are you?\n",
    "        How to print single quotes? 'Single quotes'\n",
    "        How to print double quotes? \"Double quotes\" \n",
    "        How to print back slash? \\Black slash\\ \n",
    "        Example of Back Space !\n",
    "        S\n",
    "        T\n"
   ]
  },
  {
   "cell_type": "raw",
   "id": "22b80a38",
   "metadata": {},
   "source": [
    "2. What do the escape characters n and t stand for?\n",
    "\n",
    "escape character '\\n' stands for new line\n",
    "\n",
    "eg:- print(\"1\\n2\\n3\\n4\") provides the output:\n",
    "     \n",
    "o/p:-1\n",
    "     2\n",
    "     3\n",
    "     4\n",
    "\n",
    "escape character '\\t' stands for tab space.\n",
    "\n",
    "eg:- print(\"1\\t2\\t3\\t4\") provides the output:\n",
    "     \n",
    "o/p:-1\t2\t3\t4"
   ]
  },
  {
   "cell_type": "raw",
   "id": "539dc9bd",
   "metadata": {},
   "source": [
    "3. What is the way to include backslash characters in a string?\n",
    "\n",
    "backslash characters can be included in a string '\\\\'\n",
    "for eg:- print(\"my name is romil\\\\nagar\")\n",
    "\n",
    "    o/p:- my name is romil\\nagar"
   ]
  },
  {
   "cell_type": "raw",
   "id": "734acd45",
   "metadata": {},
   "source": [
    "4. The string \"Howl's Moving Castle\" is a correct value. Why isn't the single quote character in the word Howl's not escaped a problem?\n",
    "\n",
    "The single quote character used in the word Howl's is not problematic because it is already enclosed inside the double quotes. So it will work fine.\n",
    "        print(\"Howl's Moving Castle\")\n",
    "o/p:-   Howl's Moving Castle"
   ]
  },
  {
   "cell_type": "code",
   "execution_count": 16,
   "id": "0c389d44",
   "metadata": {},
   "outputs": [
    {
     "name": "stdout",
     "output_type": "stream",
     "text": [
      "we can use the triple quotes and then press\n",
      "enter key to print string on\n",
      "new line instead of using n character\n"
     ]
    }
   ],
   "source": [
    "5. How do you write a string of newlines if you don't want to use the n character?\n",
    "\n",
    "print(\"\"\"we can use the triple quotes and then press\n",
    "enter key to print string on\n",
    "new line instead of using n character\"\"\")\n"
   ]
  },
  {
   "cell_type": "raw",
   "id": "4912b481",
   "metadata": {},
   "source": [
    "6. What are the values of the given expressions?\n",
    "\n",
    "'Hello, world!'[1]\n",
    "o/p:- e\n",
    "\n",
    "'Hello, world!'[0:5]\n",
    "o/p:- Hello\n",
    "\n",
    "'Hello, world!'[:5]\n",
    "o/p:- Hello\n",
    "\n",
    "'Hello, world!'[3:]\n",
    "o/p:- lo, world!"
   ]
  },
  {
   "cell_type": "raw",
   "id": "2872f50c",
   "metadata": {},
   "source": [
    "7. What are the values of the following expressions?\n",
    "\n",
    "print('Hello'.upper())\n",
    "o/p:- HELLO\n",
    "    \n",
    "print('Hello'.upper().isupper())\n",
    "o/p:- True\n",
    "    \n",
    "print('Hello'.upper().lower())\n",
    "o/p:- hello"
   ]
  },
  {
   "cell_type": "raw",
   "id": "8253ac27",
   "metadata": {},
   "source": [
    "8. What are the values of the following expressions?\n",
    "\n",
    "print('Remember, remember, the fifth of July.'.split())\n",
    "o/p:- ['Remember,', 'remember,', 'the', 'fifth', 'of', 'July.']\n",
    "\n",
    "print('-'.join('There can only one.'.split()))\n",
    "o/p:- There-can-only-one."
   ]
  },
  {
   "cell_type": "raw",
   "id": "a96bf666",
   "metadata": {},
   "source": [
    "9. What are the methods for right-justifying, left-justifying, and centering a string?\n",
    "\n",
    " methods used for right-justifying, left-justifying, and centering a string are rjust(),ljust() and center() respectively.\n",
    "lets take a string \n",
    "a=\"romil\"\n",
    "\n",
    "print (a.ljust(25, '*'))\n",
    "o/p:- romil********************\n",
    "\n",
    "print (a.center(25, '*'))\n",
    "o/p:- **********romil**********\n",
    "\n",
    "print (a.rjust(25, '*'))\n",
    "o/p:- ********************romil"
   ]
  },
  {
   "cell_type": "code",
   "execution_count": null,
   "id": "8648b095",
   "metadata": {},
   "outputs": [],
   "source": [
    "10. What is the best way to remove whitespace characters from the start or end?\n",
    "\n",
    "we have functions such as lstrip(),rstrip(),strip() which help us to remove\n",
    "whitespaces from start,end,start and end respectively.\n",
    "\n",
    "for eg:- print('    this is a sentence containing whitespaces from the start'.lstrip())\n",
    "        o/p:-   this is a sentence containing whitespaces from the start\n",
    "        \n",
    "        print('this is a sentence containing whitespaces from the end        '.rstrip())\n",
    "        o/p:-   this is a sentence containing whitespaces from the end\n",
    "            \n",
    "        print('        this is a sentence containing whitespaces from the start and the end        '.strip())\n",
    "        o/p:-   this is a sentence containing whitespaces from the start and the end"
   ]
  }
 ],
 "metadata": {
  "kernelspec": {
   "display_name": "Python 3",
   "language": "python",
   "name": "python3"
  },
  "language_info": {
   "codemirror_mode": {
    "name": "ipython",
    "version": 3
   },
   "file_extension": ".py",
   "mimetype": "text/x-python",
   "name": "python",
   "nbconvert_exporter": "python",
   "pygments_lexer": "ipython3",
   "version": "3.7.10"
  }
 },
 "nbformat": 4,
 "nbformat_minor": 5
}
