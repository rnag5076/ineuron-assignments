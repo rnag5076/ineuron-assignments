{
 "cells": [
  {
   "cell_type": "code",
   "execution_count": 1,
   "id": "8f271f6a",
   "metadata": {},
   "outputs": [],
   "source": [
    "#1. To what does a relative path refer?\n",
    "\n",
    "#Ans. relative path refers to that particular location which is related to the current or present working\n",
    "#     directory. it starts with current working directory"
   ]
  },
  {
   "cell_type": "code",
   "execution_count": 2,
   "id": "45807a01",
   "metadata": {},
   "outputs": [
    {
     "name": "stdout",
     "output_type": "stream",
     "text": [
      "/home/graylyrapier/Desktop/ineuron/interview/assignment/python_basic_assignment\r\n"
     ]
    }
   ],
   "source": [
    "#2. What does an absolute path start with your operating system?\n",
    "\n",
    "#Ans. an absolute path is the location that starts from the root directory(/) and then goes down\n",
    "#     !pwd command will show us the path from the root directory or the absolute path"
   ]
  },
  {
   "cell_type": "code",
   "execution_count": 4,
   "id": "5d0cd96b",
   "metadata": {},
   "outputs": [
    {
     "name": "stdout",
     "output_type": "stream",
     "text": [
      "/home/graylyrapier/Desktop/ineuron/interview/assignment/python_basic_assignment\n",
      "/home/graylyrapier/Desktop/ineuron/interview/assignment/python_basic_assignment/hi\n"
     ]
    }
   ],
   "source": [
    "#3. What do the functions os.getcwd() and os.chdir() do?\n",
    "\n",
    "#Ans. os.getcwd() :- it is a method of os library which is used to know the present directory we are working in or\n",
    "#                    or the current working directory.\n",
    "#     os.chdir() :- it is a method of os library which is used to change the current working directory to a\n",
    "#                   specific location or path. it takes a single argument which is the new directory path\n",
    "\n",
    "import os\n",
    "print(os.getcwd())\n",
    "os.mkdir('hi')\n",
    "os.chdir('hi')\n",
    "print(os.getcwd())"
   ]
  },
  {
   "cell_type": "code",
   "execution_count": 5,
   "id": "b5d25664",
   "metadata": {},
   "outputs": [],
   "source": [
    "#4. What are the . and .. folders?\n",
    "\n",
    "#Ans. '.' is used to resemble the present or current working directory.\n",
    "#     '..' is used to resemble the parent directory of '.'"
   ]
  },
  {
   "cell_type": "code",
   "execution_count": 6,
   "id": "646ba753",
   "metadata": {},
   "outputs": [],
   "source": [
    "#5. In C:\\bacon\\eggs\\spam.txt, which part is the dir name, and which part is the base name?\n",
    "\n",
    "#Ans. in this address 'C:\\bacon\\eggs\\spam.txt' the part present before the '\\' is dir name and after it is the\n",
    "#     base name i.e\n",
    "#     dir name :- C:\\bacon\\eggs\n",
    "#     base name :- spam.txt"
   ]
  },
  {
   "cell_type": "code",
   "execution_count": 7,
   "id": "92b28d67",
   "metadata": {},
   "outputs": [],
   "source": [
    "#6. What are the three “mode” arguments that can be passed to the open() function?\n",
    "\n",
    "#Ans. three modes that can be passed through open() function are \"r\",\"w\" and \"a\".\n",
    "#     \"r\" :- read mode is used for reading\n",
    "#     \"w\" :- write mode is used for writing\n",
    "#     \"a\" :- append mode is used for appending"
   ]
  },
  {
   "cell_type": "code",
   "execution_count": 8,
   "id": "905f5441",
   "metadata": {},
   "outputs": [],
   "source": [
    "#7. What happens if an existing file is opened in write mode?\n",
    "\n",
    "#Ans. if an exisitng file is opened in write mode then it removes all the contents of the existing file and \n",
    "#     treats it as an empty file and is overwritten."
   ]
  },
  {
   "cell_type": "code",
   "execution_count": 9,
   "id": "c7a919d4",
   "metadata": {},
   "outputs": [],
   "source": [
    "#8. How do you tell the difference between read() and readlines()?\n",
    "\n",
    "#Ans. read([size]) : if the size parameter is specified inside the read() function then it is going to read the\n",
    "#                    size in bytes from the current position of the file and if no parameter is specified then\n",
    "#                    it is going to read the entire file. It returns a str object which includes all newlines \n",
    "#                    and tabs too.\n",
    "#     readlines(n) : if the size parameter is specified inside the readlines() function then it is going\n",
    "#                    to read till n characters but it will round it up so that it will read the whole line\n",
    "#                    and then return it in a list of strings. by default it will read all the lines and\n",
    "#                    store them in a list where each element contains str object of single line and then will\n",
    "#                    return the list. it also includes newlines and tabs."
   ]
  },
  {
   "cell_type": "code",
   "execution_count": 10,
   "id": "9374107a",
   "metadata": {},
   "outputs": [],
   "source": [
    "#9. What data structure does a shelf value resemble?\n",
    "\n",
    "#Ans. as a shelf resembles key and value so is the dictionary data structure. it has similar keys() and \n",
    "#     values() methods."
   ]
  }
 ],
 "metadata": {
  "kernelspec": {
   "display_name": "Python 3",
   "language": "python",
   "name": "python3"
  },
  "language_info": {
   "codemirror_mode": {
    "name": "ipython",
    "version": 3
   },
   "file_extension": ".py",
   "mimetype": "text/x-python",
   "name": "python",
   "nbconvert_exporter": "python",
   "pygments_lexer": "ipython3",
   "version": "3.7.10"
  }
 },
 "nbformat": 4,
 "nbformat_minor": 5
}
