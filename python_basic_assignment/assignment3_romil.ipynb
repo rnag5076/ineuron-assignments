{
  "nbformat": 4,
  "nbformat_minor": 0,
  "metadata": {
    "colab": {
      "name": "basic_assignment 3.ipynb",
      "provenance": []
    },
    "kernelspec": {
      "name": "python3",
      "display_name": "Python 3"
    },
    "language_info": {
      "name": "python"
    }
  },
  "cells": [
    {
      "cell_type": "code",
      "metadata": {
        "id": "YO18p9l9MNKB"
      },
      "source": [
        "# Why are functions advantageous to have in your programs?\n",
        "Functions reduce the need for duplicate code. This makes programs shorter, easier to read, and easier to update."
      ],
      "execution_count": null,
      "outputs": []
    },
    {
      "cell_type": "code",
      "metadata": {
        "id": "Jk4w-W7CMrlm"
      },
      "source": [
        "# When does the code in a function run: when it&#39;s specified or when it&#39;s called?\n",
        "functions only get excuted when the fucntion is called"
      ],
      "execution_count": null,
      "outputs": []
    },
    {
      "cell_type": "code",
      "metadata": {
        "id": "JfRH38h4MtGw"
      },
      "source": [
        "# What statement creates a function?\n",
        "def statement creates a fucntion"
      ],
      "execution_count": null,
      "outputs": []
    },
    {
      "cell_type": "code",
      "metadata": {
        "id": "ta9wdWuMMufZ"
      },
      "source": [
        "# What is the difference between a function and a function call?\n",
        "function is part of code that helps in reducing the need for duplicating the code and can be created by using def command\n",
        "function call is what the moves the program to the required function and finally helps in execution"
      ],
      "execution_count": null,
      "outputs": []
    },
    {
      "cell_type": "code",
      "metadata": {
        "id": "1m4qfPHYMw2C"
      },
      "source": [
        "# How many global scopes are there in a Python program? How many local scopes?\n",
        "There is one global scope, and a local scope is created whenever a function is called."
      ],
      "execution_count": null,
      "outputs": []
    },
    {
      "cell_type": "code",
      "metadata": {
        "id": "Y629kQhTMyPA"
      },
      "source": [
        "# What happens to variables in a local scope when the function call returns?\n",
        "When a function returns, the local scope is destroyed, and all the variables in it are forgotten."
      ],
      "execution_count": null,
      "outputs": []
    },
    {
      "cell_type": "code",
      "metadata": {
        "id": "HPGmEm6wMyKv"
      },
      "source": [
        "# What is the concept of a return value? Is it possible to have a return value in an expression?\n",
        "return value is that value which a function return as its output. return can be used for expressions too."
      ],
      "execution_count": null,
      "outputs": []
    },
    {
      "cell_type": "code",
      "metadata": {
        "id": "GY79qcNyM1Xz"
      },
      "source": [
        "# If a function does not have a return statement, what is the return value of a call to that function?\n",
        "if there is no return statement present in the function then the function return None"
      ],
      "execution_count": null,
      "outputs": []
    },
    {
      "cell_type": "code",
      "metadata": {
        "id": "4l2Fq0OpM4XO"
      },
      "source": [
        "# How do you make a function variable refer to the global variable?\n",
        "A global statement will force a variable in a function to refer to the global variable"
      ],
      "execution_count": null,
      "outputs": []
    },
    {
      "cell_type": "code",
      "metadata": {
        "id": "V8GWJ3phM4ws"
      },
      "source": [
        "# What is the data type of None?\n",
        "None is a data type of its own (NoneType) and only None can be None."
      ],
      "execution_count": null,
      "outputs": []
    },
    {
      "cell_type": "code",
      "metadata": {
        "id": "TfzKLfiqM6EB"
      },
      "source": [
        "# What does the sentence import areallyourpetsnamederic do?\n",
        "That import statement imports a module named areallyourpetsnamederic ."
      ],
      "execution_count": null,
      "outputs": []
    },
    {
      "cell_type": "code",
      "metadata": {
        "id": "Upg5MJ6iM8iJ"
      },
      "source": [
        "# If you had a bacon() feature in a spam module, what would you call it after importing spam?\n",
        "spam.bacon()"
      ],
      "execution_count": null,
      "outputs": []
    },
    {
      "cell_type": "code",
      "metadata": {
        "id": "WJlTJNm6M88l"
      },
      "source": [
        "# What can you do to save a programme from crashing if it encounters an error?\n",
        "by resolving the error or in better words error handling should be done so as to avoid the errors to encounter our program"
      ],
      "execution_count": null,
      "outputs": []
    },
    {
      "cell_type": "code",
      "metadata": {
        "id": "2IOdjF-UM_Fd"
      },
      "source": [
        "# What is the purpose of the try clause? What is the purpose of the except clause?\n",
        "In the try clause, all statements are executed until an exception is encountered. except is used to catch and handle the exception(s) that are encountered in the try clause. else lets you code sections that should run only when no exceptions are encountered in the try clause."
      ],
      "execution_count": null,
      "outputs": []
    }
  ]
}