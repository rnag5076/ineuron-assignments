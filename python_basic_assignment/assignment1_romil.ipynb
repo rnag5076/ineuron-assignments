{
  "nbformat": 4,
  "nbformat_minor": 0,
  "metadata": {
    "colab": {
      "name": "basic_assignment 1.ipynb",
      "provenance": []
    },
    "kernelspec": {
      "name": "python3",
      "display_name": "Python 3"
    },
    "language_info": {
      "name": "python"
    }
  },
  "cells": [
    {
      "cell_type": "code",
      "metadata": {
        "id": "r2vsJOErDmpB"
      },
      "source": [
        "# 1. In the below elements which of them are values or an expression? eg:- values can be integer or string and expressions will be mathematical operators.\n",
        "# *\n",
        "# 'hello'\n",
        "# -87.8\n",
        "# -\n",
        "# /\n",
        "# +\n",
        "# 6\n",
        "\n",
        "values = 'hello', 6, -87..8\n",
        "expression = '*', '/', '-', '+'"
      ],
      "execution_count": null,
      "outputs": []
    },
    {
      "cell_type": "code",
      "metadata": {
        "id": "nONu59uhD65m"
      },
      "source": [
        "# What is the difference between string and variable?\n",
        "\n",
        "string = It is a text string represented in inverted commas ('')\n",
        "variable = It is a something that stores the data of any type"
      ],
      "execution_count": null,
      "outputs": []
    },
    {
      "cell_type": "code",
      "metadata": {
        "id": "SN9AklsuD813"
      },
      "source": [
        "# Describe three different data types.\n",
        "\n",
        "data_types = interger, float, string, boolean, complex numbers, "
      ],
      "execution_count": null,
      "outputs": []
    },
    {
      "cell_type": "code",
      "metadata": {
        "id": "Oza2M0CID-UT"
      },
      "source": [
        "# What is an expression made up of? What do all expressions do?\n",
        "\n",
        "An expression is a construct made up of variables, operators, and method invocations, which are constructed according to the syntax of the language, that evaluates to a single value. As you can see from the other expressions, an expression can return other types of values as well, such as boolean or String "
      ],
      "execution_count": null,
      "outputs": []
    },
    {
      "cell_type": "code",
      "metadata": {
        "id": "LIEBtI0QD_ze"
      },
      "source": [
        "# This assignment statements, like spam = 10. What is the difference between an expression and a statement?\n",
        "\n",
        "An expression evaluates to a single value. A statement does not."
      ],
      "execution_count": null,
      "outputs": []
    },
    {
      "cell_type": "code",
      "metadata": {
        "id": "WbQPrKJREBrb"
      },
      "source": [
        "# After running the following code, what does the variable bacon contain?\n",
        "# bacon = 22\n",
        "# bacon + 1\n",
        "\n",
        "bacon will remain 20 as after running (bacon + 1) we havent reassigned it to the variable bacon"
      ],
      "execution_count": null,
      "outputs": []
    },
    {
      "cell_type": "code",
      "metadata": {
        "id": "9TRA52nkEDzM"
      },
      "source": [
        "# What should the values of the following two terms be?\n",
        "#'spam' + 'spamspam'\n",
        "#'spam' * 3\n",
        "\n",
        "'spam' + 'spamspam' = 'spamspamspam'\n",
        "'spam*3' = 'spamspamspam"
      ],
      "execution_count": null,
      "outputs": []
    },
    {
      "cell_type": "code",
      "metadata": {
        "id": "YEq7Ifo8EFjo"
      },
      "source": [
        "# Why is eggs a valid variable name while 100 is invalid?\n",
        "\n",
        "becuz variable names cannot be an integer values"
      ],
      "execution_count": null,
      "outputs": []
    },
    {
      "cell_type": "code",
      "metadata": {
        "id": "m1Xb-UIGEGwG"
      },
      "source": [
        "# What three functions can be used to get the integer, floating-point number, or string version of a value?\n",
        "\n",
        "The int(), float(), and str() functions will evaluate to the integer, floating-point number, and string versions of the value passed to them."
      ],
      "execution_count": null,
      "outputs": []
    },
    {
      "cell_type": "code",
      "metadata": {
        "id": "hEq2XaiEEITS"
      },
      "source": [
        "# Why does this expression cause an error? How can you fix it?\n",
        "# 'I have eaten' + 99 + 'burritos.'\n",
        "\n",
        "'I have eaten' + 99 +  'burritos' \n",
        "this expression will cause an error as concatination of strings and integer value is directly not possible.\n",
        "to make it a valid output we have to convert the integer to string using str() function. hence\n",
        "'I have eaten' + str(99) + 'burritos'"
      ],
      "execution_count": null,
      "outputs": []
    },
    {
      "cell_type": "code",
      "metadata": {
        "id": "l60RDzDLFxYl"
      },
      "source": [
        ""
      ],
      "execution_count": null,
      "outputs": []
    }
  ]
}