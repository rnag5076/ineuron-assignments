{
  "nbformat": 4,
  "nbformat_minor": 0,
  "metadata": {
    "colab": {
      "name": "basic_assignment 4.ipynb",
      "provenance": []
    },
    "kernelspec": {
      "name": "python3",
      "display_name": "Python 3"
    },
    "language_info": {
      "name": "python"
    }
  },
  "cells": [
    {
      "cell_type": "code",
      "metadata": {
        "id": "-auOjjriNKzc"
      },
      "source": [
        "#  What is the purpose of the try clause? What is the purpose of the except clause?\n",
        "In the try clause, all statements are executed until an exception is encountered. except is used to catch and handle the exception(s) that are encountered in the try clause. else lets you code sections that should run only when no exceptions are encountered in the try clause.\n",
        "[] it is a dynamic array operator used for making list."
      ],
      "execution_count": null,
      "outputs": []
    },
    {
      "cell_type": "code",
      "metadata": {
        "id": "3NegJwJIOmfC"
      },
      "source": [
        "# In a list of values stored in a variable called spam, how would you assign the value &#39;hello&#39; as the third value? (Assume [2, 4, 6, 8, 10] are in spam.)\n",
        "\n",
        "spam = [2, 4, 6, 8, 10]\n",
        "spam.insert(2, 'hello')"
      ],
      "execution_count": null,
      "outputs": []
    },
    {
      "cell_type": "code",
      "metadata": {
        "id": "K5qLA2yoOoP5"
      },
      "source": [
        "# Let's pretend the spam includes the list ['a', 'b', 'c', 'd'] for the next three queries."
      ],
      "execution_count": null,
      "outputs": []
    },
    {
      "cell_type": "code",
      "metadata": {
        "id": "FdLvCHxLOpuJ"
      },
      "source": [
        "# What is the value of spam[int(int(&#39;3&#39; * 2) / 11)]?\n",
        "'d' (Note that '3' * 2 is the string '33', which is passed to int() before being divided by 11. This eventually evaluates to 3. Expressions can be used wherever values are used.)"
      ],
      "execution_count": null,
      "outputs": []
    },
    {
      "cell_type": "code",
      "metadata": {
        "id": "bsoKt6VXOr-f"
      },
      "source": [
        "# What is the value of spam[-1]?\n",
        "d"
      ],
      "execution_count": null,
      "outputs": []
    },
    {
      "cell_type": "code",
      "metadata": {
        "id": "HhXhbcUSOuDN"
      },
      "source": [
        "# What is the value of spam[:2]?\n",
        "['a', 'b']"
      ],
      "execution_count": null,
      "outputs": []
    },
    {
      "cell_type": "code",
      "metadata": {
        "id": "4nKQ4hiBOvgZ"
      },
      "source": [
        "# Let's pretend bacon has the list [3.14, 'cat', 11, 'cat', True] for the next three questions."
      ],
      "execution_count": null,
      "outputs": []
    },
    {
      "cell_type": "code",
      "metadata": {
        "id": "_QHCM3qmOzhV"
      },
      "source": [
        "# What is the value of bacon.index(&#39;cat&#39;)?\n",
        "1"
      ],
      "execution_count": null,
      "outputs": []
    },
    {
      "cell_type": "code",
      "metadata": {
        "id": "YhclJvljO1Wu"
      },
      "source": [
        "# How does bacon.append(99) change the look of the list value in bacon?\n",
        "[3.14, 'cat', 11, 'cat', True, 99]"
      ],
      "execution_count": null,
      "outputs": []
    },
    {
      "cell_type": "code",
      "metadata": {
        "id": "_qsXdKHQO1y1"
      },
      "source": [
        "# How does bacon.remove(&#39;cat&#39;) change the look of the list in bacon?\n",
        "[3.14, 11, 'cat', True]\n"
      ],
      "execution_count": null,
      "outputs": []
    },
    {
      "cell_type": "code",
      "metadata": {
        "id": "_Sg1E3HpO3IZ"
      },
      "source": [
        "# What are the list concatenation and list replication operators?\n",
        "The operator for list concatenation is +, while the operator for replication is *. (This is the same as for strings.)"
      ],
      "execution_count": null,
      "outputs": []
    },
    {
      "cell_type": "code",
      "metadata": {
        "id": "mibqWh71O4T3"
      },
      "source": [
        "# What is difference between the list methods append() and insert()?\n",
        "append() helps in inserting a new element in the list at the last position\n",
        "insert() helps in inserting a new element on our desired position "
      ],
      "execution_count": null,
      "outputs": []
    },
    {
      "cell_type": "code",
      "metadata": {
        "id": "szlnnFBCO5i9"
      },
      "source": [
        "# What are the two methods for removing items from a list?\n",
        "The methods are remove(), pop() and clear(). It helps to remove the very first given element matching from the list. The pop() method removes an element from the list based on the index given. The clear() method will remove all the elements present in the list."
      ],
      "execution_count": null,
      "outputs": []
    },
    {
      "cell_type": "code",
      "metadata": {
        "id": "iz-Ntm_0O8PU"
      },
      "source": [
        "# Describe how list values and string values are identical.\n",
        "Lists are similar to strings, which are ordered collections of characters. also they both can be concatinated"
      ],
      "execution_count": null,
      "outputs": []
    },
    {
      "cell_type": "code",
      "metadata": {
        "id": "aoo-YqvmO9aX"
      },
      "source": [
        "# What's the difference between tuples and lists?\n",
        "list is mutable and tuples are immutable"
      ],
      "execution_count": null,
      "outputs": []
    },
    {
      "cell_type": "code",
      "metadata": {
        "id": "D5yUKJaoO-ug"
      },
      "source": [
        "# How do you type a tuple value that only contains the integer 42?\n",
        "(42)"
      ],
      "execution_count": null,
      "outputs": []
    },
    {
      "cell_type": "code",
      "metadata": {
        "id": "cU0BZojuO_2F"
      },
      "source": [
        "# How do you get a list value&#39;s tuple form? How do you get a tuple value&#39;s list form?\n",
        "# list to tuple\n",
        "x = [1,2,3]\n",
        "print(tuple(x))\n",
        "\n",
        "# tuple to list\n",
        "x = (1,2,3)\n",
        "print(list(x))"
      ],
      "execution_count": null,
      "outputs": []
    },
    {
      "cell_type": "code",
      "metadata": {
        "id": "D2nwkc_bPBng"
      },
      "source": [
        "# Variables that &quot;contain&quot; list values are not necessarily lists themselves. Instead, what do they contain?\n",
        "Variables will contain references to list values rather than list values themselves"
      ],
      "execution_count": null,
      "outputs": []
    },
    {
      "cell_type": "code",
      "metadata": {
        "id": "4WGm_25gPGs_"
      },
      "source": [
        "# How do you distinguish between copy.copy() and copy.deepcopy()?\n",
        "A shallow copy constructs a new compound object and then (to the extent possible) inserts references into it to the objects found in the original.\n",
        "A deep copy constructs a new compound object and then, recursively, inserts copies into it of the objects found in the original."
      ],
      "execution_count": null,
      "outputs": []
    }
  ]
}