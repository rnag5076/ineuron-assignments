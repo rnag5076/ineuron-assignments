{
  "nbformat": 4,
  "nbformat_minor": 0,
  "metadata": {
    "colab": {
      "name": "basic_assignment 5.ipynb",
      "provenance": []
    },
    "kernelspec": {
      "name": "python3",
      "display_name": "Python 3"
    },
    "language_info": {
      "name": "python"
    }
  },
  "cells": [
    {
      "cell_type": "code",
      "metadata": {
        "id": "IZitXcVaPUa3"
      },
      "source": [
        "# What does an empty dictionary's code look like?\n",
        "Two curly brackets: {}"
      ],
      "execution_count": null,
      "outputs": []
    },
    {
      "cell_type": "code",
      "metadata": {
        "id": "FBuYpASpQGF6"
      },
      "source": [
        "# What is the value of a dictionary value with the key 'foo' and the value 42?\n",
        "{'foo': 42}"
      ],
      "execution_count": null,
      "outputs": []
    },
    {
      "cell_type": "code",
      "metadata": {
        "id": "jr_hftgaQHS9"
      },
      "source": [
        "# What is the most significant distinction between a dictionary and a list?\n",
        "The items stored in a dictionary are unordered, while the items in a list are ordered."
      ],
      "execution_count": null,
      "outputs": []
    },
    {
      "cell_type": "code",
      "metadata": {
        "id": "fgq1DYzvQITk"
      },
      "source": [
        "# What happens if you try to access spam['foo'] if spam is {'bar': 100}?\n",
        "You get a KeyError error."
      ],
      "execution_count": null,
      "outputs": []
    },
    {
      "cell_type": "code",
      "metadata": {
        "id": "ndPT9rOPQJOB"
      },
      "source": [
        "# If a dictionary is stored in spam, what is the difference between the expressions 'cat' in spam and\n",
        "# 'cat' in spam.keys()?\n",
        "There is no difference. The in operator checks whether a value exists as a key in the dictionary."
      ],
      "execution_count": null,
      "outputs": []
    },
    {
      "cell_type": "code",
      "metadata": {
        "id": "pmXdbonwQKQ-"
      },
      "source": [
        "# If a dictionary is stored in spam, what is the difference between the expressions 'cat' in spam and\n",
        "# 'cat' in spam.values()?\n",
        "'cat' in spam checks whether there is a 'cat' key in the dictionary, while 'cat' in spam.values() checks whether there is a value 'cat' for one of the keys in spam."
      ],
      "execution_count": null,
      "outputs": []
    },
    {
      "cell_type": "code",
      "metadata": {
        "id": "aU4sJkHWQLP0"
      },
      "source": [
        "# What is a shortcut for the following code?\n",
        "# if 'color' not in spam:\n",
        "# spam['color'] = 'black'\n",
        "spam.setdefault('color', 'black')"
      ],
      "execution_count": null,
      "outputs": []
    },
    {
      "cell_type": "code",
      "metadata": {
        "id": "otULg2EEQNoc"
      },
      "source": [
        "# How do you \"pretty print\" dictionary values using which module and function?\n",
        "pprint.pprint()"
      ],
      "execution_count": null,
      "outputs": []
    }
  ]
}