{
  "nbformat": 4,
  "nbformat_minor": 0,
  "metadata": {
    "colab": {
      "name": "basic_assignment 2.ipynb",
      "provenance": []
    },
    "kernelspec": {
      "name": "python3",
      "display_name": "Python 3"
    },
    "language_info": {
      "name": "python"
    }
  },
  "cells": [
    {
      "cell_type": "code",
      "metadata": {
        "id": "YTu2jfYdF8cl"
      },
      "source": [
        "# What are the two values of the Boolean data type? How do you write them?\n",
        "\n",
        "True and False are the two Boolean Data types. "
      ],
      "execution_count": null,
      "outputs": []
    },
    {
      "cell_type": "code",
      "metadata": {
        "id": "8_rPRDoWGULP"
      },
      "source": [
        "# What are the three different types of Boolean operators?\n",
        "\n",
        "and, or & not are the three different types of boolean operators"
      ],
      "execution_count": null,
      "outputs": []
    },
    {
      "cell_type": "code",
      "metadata": {
        "id": "KY4DegysGWIm"
      },
      "source": [
        "# Make a list of each Boolean operator&#39;s truth tables (i.e. every possible combination of Boolean values for the operator and what it evaluate ).\n",
        "\n",
        "True and True is True.\n",
        "\n",
        "True and False is False.\n",
        "\n",
        "False and True is False.\n",
        "\n",
        "False and False is False.\n",
        "\n",
        "True or True is True.\n",
        "\n",
        "True or False is True.\n",
        "\n",
        "False or True is True.\n",
        "\n",
        "False or False is False.\n",
        "\n",
        "not True is False.\n",
        "\n",
        "not False is True"
      ],
      "execution_count": null,
      "outputs": []
    },
    {
      "cell_type": "code",
      "metadata": {
        "id": "mTQS-KoGGYYa"
      },
      "source": [
        "# What are the values of the following expressions?\n",
        "# (5 > 4) and (3 == 5)\n",
        "# not (5 > 4)\n",
        "# (5 > 4) or (3 == 5)\n",
        "# not ((5 > 4) or (3 == 5))\n",
        "# (True and True) and (True == False)\n",
        "# (not False) or (not True)\n",
        "\n",
        "False\n",
        "False\n",
        "True\n",
        "False\n",
        "False\n",
        "True"
      ],
      "execution_count": null,
      "outputs": []
    },
    {
      "cell_type": "code",
      "metadata": {
        "id": "bZD01EtPGaTs"
      },
      "source": [
        "# What are the six comparison operators?\n",
        "\n",
        "==, !=, <, >, <=, and >=."
      ],
      "execution_count": null,
      "outputs": []
    },
    {
      "cell_type": "code",
      "metadata": {
        "id": "To5NEp35Gb3u"
      },
      "source": [
        "# How do you tell the difference between the equal to and assignment operators?Describe a condition and when you would use one.\n",
        "\n",
        "== is the equal to operator that compares two values and evaluates to a Boolean, while = is the assignment operator that stores a value in a variable."
      ],
      "execution_count": null,
      "outputs": []
    },
    {
      "cell_type": "code",
      "metadata": {
        "id": "3gkNIRDMGeM6"
      },
      "source": [
        "#Identify the three blocks in this code:\n",
        "spam = 0\n",
        "if spam == 10:\n",
        "print('eggs')\n",
        "if spam &gt; 5:\n",
        "print('bacon')\n",
        "else:\n",
        "print('ham';)\n",
        "print('spam')\n",
        "print('spam')\n"
      ],
      "execution_count": null,
      "outputs": []
    },
    {
      "cell_type": "code",
      "metadata": {
        "id": "h-Xyi7McGk5c"
      },
      "source": [
        "# Write code that prints Hello if 1 is stored in spam, prints Howdy if 2 is stored in spam, and prints Greetings! if anything else is stored in spam.\n",
        "\n",
        "spam = int(input())\n",
        "if spam == 1:\n",
        "  print('Hello')\n",
        "elif spam == 2:\n",
        "  print('Howdy')\n",
        "else:\n",
        "  print('Greetings!')"
      ],
      "execution_count": null,
      "outputs": []
    },
    {
      "cell_type": "code",
      "metadata": {
        "id": "GNZ9pR8yGmZ0"
      },
      "source": [
        "# If your programme is stuck in an endless loop, what keys you’ll press?\n",
        "\n",
        "ctrl + c"
      ],
      "execution_count": null,
      "outputs": []
    },
    {
      "cell_type": "code",
      "metadata": {
        "id": "GdwHzVuPGoNn"
      },
      "source": [
        "# How can you tell the difference between break and continue?\n",
        "\n",
        "Break leaves the loop completely and executes the statements after the loop. Whereas Continue leaves the current iteration and executes with the next value in the loop. break completely exits the loop. continue skips the statements after the continue statement and keeps looping."
      ],
      "execution_count": null,
      "outputs": []
    },
    {
      "cell_type": "code",
      "metadata": {
        "id": "zjk8IeetGplW"
      },
      "source": [
        "# In a for loop, what is the difference between range(10), range(0, 10), and range(0, 10, 1)?\n",
        "\n",
        "range(10) = it will include values from 0 to 9\n",
        "range(0, 10) = it will include values from 0 to 9\n",
        "range(0, 10, 1) = it will include values from  to 9 using by printing values with 1 gap from the initial"
      ],
      "execution_count": null,
      "outputs": []
    },
    {
      "cell_type": "code",
      "metadata": {
        "id": "XvGmZ2WeGqz9"
      },
      "source": [
        "# Write a short program that prints the numbers 1 to 10 using a for loop. Then write an equivalent program that prints the numbers 1 to 10 using a while loop.\n",
        "\n",
        "for i in range(1, 11):\n",
        "  print(i)\n",
        "\n",
        "i = 1\n",
        "while(i <= 10):\n",
        "  print(i)\n",
        "  i++"
      ],
      "execution_count": null,
      "outputs": []
    },
    {
      "cell_type": "code",
      "metadata": {
        "id": "MxZ0BV-aGslW"
      },
      "source": [
        "# If you had a function named bacon() inside a module named spam, how would you call it after importing spam?\n",
        "\n",
        "import spam\n",
        "from spam inport bacon\n",
        "\n",
        "spam.bacon()"
      ],
      "execution_count": null,
      "outputs": []
    }
  ]
}