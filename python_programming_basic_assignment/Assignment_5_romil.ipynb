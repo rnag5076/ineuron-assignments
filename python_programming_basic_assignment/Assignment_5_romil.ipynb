{
  "nbformat": 4,
  "nbformat_minor": 0,
  "metadata": {
    "colab": {
      "name": "Assignment 5.ipynb",
      "provenance": []
    },
    "kernelspec": {
      "name": "python3",
      "display_name": "Python 3"
    },
    "language_info": {
      "name": "python"
    }
  },
  "cells": [
    {
      "cell_type": "code",
      "metadata": {
        "colab": {
          "base_uri": "https://localhost:8080/"
        },
        "id": "qNQueeemGB_4",
        "outputId": "03de3d8e-cdf9-44c4-8f9a-fe3f005eee40"
      },
      "source": [
        "# Write a Python Program to Find LCM?\n",
        "\n",
        "def gcd(x, y):\n",
        "   while(y):\n",
        "       x, y = y, x % y\n",
        "   return x\n",
        "def lcm(x, y):\n",
        "   lcm = (x*y)//gcd(x,y)\n",
        "   return lcm\n",
        "num1 = int(input())\n",
        "num2 = int(input())\n",
        "print(\"The L.C.M. is\", lcm(num1, num2))"
      ],
      "execution_count": 7,
      "outputs": [
        {
          "output_type": "stream",
          "text": [
            "4\n",
            "6\n",
            "The L.C.M. is 12\n"
          ],
          "name": "stdout"
        }
      ]
    },
    {
      "cell_type": "code",
      "metadata": {
        "colab": {
          "base_uri": "https://localhost:8080/"
        },
        "id": "gHzSzP7MGGla",
        "outputId": "08fda6b6-cc5e-4852-b458-783bf4da79a6"
      },
      "source": [
        "# Write a Python Program to Find HCF?\n",
        "\n",
        "\n",
        "def hcf(x, y):\n",
        "    if x > y:\n",
        "        smaller = y\n",
        "    else:\n",
        "        smaller = x\n",
        "    for i in range(1, smaller+1):\n",
        "        if((x % i == 0) and (y % i == 0)):\n",
        "            hcf = i \n",
        "    return hcf\n",
        "num1 = int(input())\n",
        "num2 = int(input())\n",
        "print(\"The H.C.F. is\", hcf(num1, num2))"
      ],
      "execution_count": 8,
      "outputs": [
        {
          "output_type": "stream",
          "text": [
            "4\n",
            "6\n",
            "The H.C.F. is 2\n"
          ],
          "name": "stdout"
        }
      ]
    },
    {
      "cell_type": "code",
      "metadata": {
        "colab": {
          "base_uri": "https://localhost:8080/"
        },
        "id": "8ZVB2WNOGvZg",
        "outputId": "a820f750-d145-49d6-9803-48ac3edb7db1"
      },
      "source": [
        "# Write a Python Program to Convert Decimal to Binary, Octal and Hexadecimal?\n",
        "\n",
        "x = int(input())\n",
        "print(bin(x))\n",
        "print(oct(x))\n",
        "print(hex(x))"
      ],
      "execution_count": 9,
      "outputs": [
        {
          "output_type": "stream",
          "text": [
            "7\n",
            "0b111\n",
            "0o7\n",
            "0x7\n"
          ],
          "name": "stdout"
        }
      ]
    },
    {
      "cell_type": "code",
      "metadata": {
        "colab": {
          "base_uri": "https://localhost:8080/"
        },
        "id": "sWTzyVmOG2pf",
        "outputId": "01747cd7-a3a3-4351-a94c-1852807155bb"
      },
      "source": [
        "# Write a Python Program To Find ASCII value of a character?\n",
        "\n",
        "x = input()\n",
        "print(ord(x))"
      ],
      "execution_count": 10,
      "outputs": [
        {
          "output_type": "stream",
          "text": [
            "r\n",
            "114\n"
          ],
          "name": "stdout"
        }
      ]
    },
    {
      "cell_type": "code",
      "metadata": {
        "colab": {
          "base_uri": "https://localhost:8080/"
        },
        "id": "YQfSpltkG4K_",
        "outputId": "f12280f7-df0a-4404-d7dc-1b6dd76b5e42"
      },
      "source": [
        "# Write a Python Program to Make a Simple Calculator with 4 basic mathematical operations?\n",
        "\n",
        "a = int(input())\n",
        "b = int(input())\n",
        "op = input()\n",
        "if op == \"+\":\n",
        "  print(a+b)\n",
        "elif op == \"-\":\n",
        "  print(a-b)\n",
        "elif op == \"*\" or op == \"X\" or op == 'x':\n",
        "  print(a*b)\n",
        "elif op == \"/\":\n",
        "  print(a/b)"
      ],
      "execution_count": 11,
      "outputs": [
        {
          "output_type": "stream",
          "text": [
            "2\n",
            "3\n",
            "x\n",
            "6\n"
          ],
          "name": "stdout"
        }
      ]
    },
    {
      "cell_type": "code",
      "metadata": {
        "id": "gHPLXNDiG5vP"
      },
      "source": [
        ""
      ],
      "execution_count": null,
      "outputs": []
    }
  ]
}