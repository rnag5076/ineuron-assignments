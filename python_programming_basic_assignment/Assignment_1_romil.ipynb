{
  "nbformat": 4,
  "nbformat_minor": 0,
  "metadata": {
    "colab": {
      "name": "Assignment 1.ipynb",
      "provenance": []
    },
    "kernelspec": {
      "name": "python3",
      "display_name": "Python 3"
    },
    "language_info": {
      "name": "python"
    }
  },
  "cells": [
    {
      "cell_type": "code",
      "metadata": {
        "colab": {
          "base_uri": "https://localhost:8080/"
        },
        "id": "uD4QlqWWARLz",
        "outputId": "6b13f0e9-0133-41e7-85b5-4f669e3b0d40"
      },
      "source": [
        "# Write a Python program to print \"Hello Python\"?\n",
        "\n",
        "print(\"Hello World\")"
      ],
      "execution_count": 1,
      "outputs": [
        {
          "output_type": "stream",
          "text": [
            "Hello World\n"
          ],
          "name": "stdout"
        }
      ]
    },
    {
      "cell_type": "code",
      "metadata": {
        "colab": {
          "base_uri": "https://localhost:8080/"
        },
        "id": "ciukShYOAaKP",
        "outputId": "22d34f9a-4908-46ef-f1e5-c4f4ad2ff11a"
      },
      "source": [
        "# Write a Python program to do arithmetical operations addition and division.?\n",
        "\n",
        "print(6 + 8)\n",
        "print(8 / 4)"
      ],
      "execution_count": 2,
      "outputs": [
        {
          "output_type": "stream",
          "text": [
            "14\n",
            "2.0\n"
          ],
          "name": "stdout"
        }
      ]
    },
    {
      "cell_type": "code",
      "metadata": {
        "colab": {
          "base_uri": "https://localhost:8080/"
        },
        "id": "PmWutMKdAet-",
        "outputId": "9ab18246-2f33-4e8c-8516-66786627e0ea"
      },
      "source": [
        "# Write a Python program to find the area of a triangle?\n",
        "\n",
        "#for right angle triangle\n",
        "b = int(input())\n",
        "h = int(input())\n",
        "area = (b * h)/2\n",
        "print(area)\n",
        "\n",
        "# for normal triangle\n",
        "a = float(input('Enter first side: '))  \n",
        "b = float(input('Enter second side: '))  \n",
        "c = float(input('Enter third side: '))   \n",
        "s = (a + b + c) / 2    \n",
        "area = (s*(s-a)*(s-b)*(s-c)) ** 0.5  \n",
        "print('The area of the triangle is %0.2f' %area) "
      ],
      "execution_count": 5,
      "outputs": [
        {
          "output_type": "stream",
          "text": [
            "5\n",
            "10\n",
            "25.0\n",
            "Enter first side: 12\n",
            "Enter second side: 26\n",
            "Enter third side: 18\n",
            "The area of the triangle is 94.66\n"
          ],
          "name": "stdout"
        }
      ]
    },
    {
      "cell_type": "code",
      "metadata": {
        "colab": {
          "base_uri": "https://localhost:8080/"
        },
        "id": "JZ9m-84QAh8G",
        "outputId": "c4d207e6-01eb-4545-fbf4-3df1b55b5477"
      },
      "source": [
        "# Write a Python program to swap two variables?\n",
        "\n",
        "x = int(input())\n",
        "y = int(input())\n",
        "temp = x\n",
        "x = y\n",
        "y = temp\n",
        "print(x)\n",
        "print(y)"
      ],
      "execution_count": 6,
      "outputs": [
        {
          "output_type": "stream",
          "text": [
            "5\n",
            "4\n",
            "4\n",
            "5\n"
          ],
          "name": "stdout"
        }
      ]
    },
    {
      "cell_type": "code",
      "metadata": {
        "colab": {
          "base_uri": "https://localhost:8080/"
        },
        "id": "7RPRa9u2Aj0-",
        "outputId": "87ce8d09-87c7-4ff0-d1fe-06510dae070a"
      },
      "source": [
        "# Write a Python program to generate a random number?\n",
        "\n",
        "import random\n",
        "print(random.randint(0,9))"
      ],
      "execution_count": 7,
      "outputs": [
        {
          "output_type": "stream",
          "text": [
            "7\n"
          ],
          "name": "stdout"
        }
      ]
    },
    {
      "cell_type": "code",
      "metadata": {
        "id": "HaUL-vyPBS8-"
      },
      "source": [
        ""
      ],
      "execution_count": null,
      "outputs": []
    }
  ]
}