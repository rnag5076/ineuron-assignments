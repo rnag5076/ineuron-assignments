{
  "nbformat": 4,
  "nbformat_minor": 0,
  "metadata": {
    "colab": {
      "name": "Assignment 6.ipynb",
      "provenance": []
    },
    "kernelspec": {
      "name": "python3",
      "display_name": "Python 3"
    },
    "language_info": {
      "name": "python"
    }
  },
  "cells": [
    {
      "cell_type": "code",
      "metadata": {
        "colab": {
          "base_uri": "https://localhost:8080/"
        },
        "id": "8QQSufRqHXhn",
        "outputId": "9e4d3abe-a2a1-410b-d569-e91520a5a451"
      },
      "source": [
        "# Write a Python Program to Display Fibonacci Sequence Using Recursion?\n",
        "\n",
        "def recur_fibo(n):\n",
        "   if n <= 1:\n",
        "       return n\n",
        "   else:\n",
        "       return(recur_fibo(n-1) + recur_fibo(n-2))\n",
        "nterms = int(input())\n",
        "# check if the number of terms is valid\n",
        "if nterms <= 0:\n",
        "   print(\"Plese enter a positive integer\")\n",
        "else:\n",
        "   print(\"Fibonacci sequence:\")\n",
        "   for i in range(nterms):\n",
        "       print(recur_fibo(i))"
      ],
      "execution_count": 7,
      "outputs": [
        {
          "output_type": "stream",
          "text": [
            "6\n",
            "Fibonacci sequence:\n",
            "0\n",
            "1\n",
            "1\n",
            "2\n",
            "3\n",
            "5\n"
          ],
          "name": "stdout"
        }
      ]
    },
    {
      "cell_type": "code",
      "metadata": {
        "colab": {
          "base_uri": "https://localhost:8080/"
        },
        "id": "1bBOill4HccC",
        "outputId": "ad41ce97-a6d9-413d-a473-a59a1dcab723"
      },
      "source": [
        "# Write a Python Program to Find Factorial of Number Using Recursion?\n",
        "\n",
        "def rec_fact(n):\n",
        "  if n==0 or n==1:\n",
        "    return 1\n",
        "  else:\n",
        "    return (n * rec_fact(n-1))\n",
        "\n",
        "n = int(input())\n",
        "print(rec_fact(n))"
      ],
      "execution_count": 8,
      "outputs": [
        {
          "output_type": "stream",
          "text": [
            "7\n",
            "5040\n"
          ],
          "name": "stdout"
        }
      ]
    },
    {
      "cell_type": "code",
      "metadata": {
        "colab": {
          "base_uri": "https://localhost:8080/"
        },
        "id": "pHcOCZNJHek4",
        "outputId": "00d3e937-1b88-493b-9ea5-0fe73b2fde29"
      },
      "source": [
        "# Write a Python Program to calculate your Body Mass Index?\n",
        "\n",
        "def bmi(w, h):\n",
        "  bmi = w/(h*h)\n",
        "  return bmi\n",
        "\n",
        "w = int(input(\"Weight (in kg)\"))\n",
        "h = int(input(\"Height (in cm)\"))\n",
        "print(bmi(w, h))"
      ],
      "execution_count": 9,
      "outputs": [
        {
          "output_type": "stream",
          "text": [
            "Weight (in kg)65\n",
            "Height (in cm)162\n",
            "0.0024767565919829294\n"
          ],
          "name": "stdout"
        }
      ]
    },
    {
      "cell_type": "code",
      "metadata": {
        "colab": {
          "base_uri": "https://localhost:8080/"
        },
        "id": "DU8IbQuIHg1g",
        "outputId": "8d79cfb6-0a19-48dc-854e-db029beaf901"
      },
      "source": [
        "# Write a Python Program to calculate the natural logarithm of any number?\n",
        "\n",
        "import math\n",
        "x = int(input())\n",
        "print(math.log(x))"
      ],
      "execution_count": 10,
      "outputs": [
        {
          "output_type": "stream",
          "text": [
            "8\n",
            "2.0794415416798357\n"
          ],
          "name": "stdout"
        }
      ]
    },
    {
      "cell_type": "code",
      "metadata": {
        "colab": {
          "base_uri": "https://localhost:8080/"
        },
        "id": "DecHfR8sHlW4",
        "outputId": "515e3c5e-da00-4ea5-a399-2630c5f8647f"
      },
      "source": [
        "# Write a Python Program for cube sum of first n natural numbers?\n",
        "\n",
        "n = int(input())\n",
        "print(((n*(n+1)/2)**2))"
      ],
      "execution_count": 12,
      "outputs": [
        {
          "output_type": "stream",
          "text": [
            "6\n",
            "441.0\n"
          ],
          "name": "stdout"
        }
      ]
    },
    {
      "cell_type": "code",
      "metadata": {
        "id": "DHqLPiDtHm9I"
      },
      "source": [
        ""
      ],
      "execution_count": null,
      "outputs": []
    }
  ]
}