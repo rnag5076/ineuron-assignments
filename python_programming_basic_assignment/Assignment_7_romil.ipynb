{
  "nbformat": 4,
  "nbformat_minor": 0,
  "metadata": {
    "colab": {
      "name": "Assignment 7.ipynb",
      "provenance": []
    },
    "kernelspec": {
      "name": "python3",
      "display_name": "Python 3"
    },
    "language_info": {
      "name": "python"
    }
  },
  "cells": [
    {
      "cell_type": "code",
      "metadata": {
        "colab": {
          "base_uri": "https://localhost:8080/"
        },
        "id": "zWbFEkeGIBxl",
        "outputId": "1600d29c-2b9f-47b1-db40-825c92901532"
      },
      "source": [
        "# Write a Python Program to find sum of array?\n",
        "\n",
        "x = int(input())\n",
        "a = list(map(int, input().split()))[:x]\n",
        "print(sum(a))"
      ],
      "execution_count": 6,
      "outputs": [
        {
          "output_type": "stream",
          "text": [
            "6\n",
            "1 2 3 4 5 6\n",
            "21\n"
          ],
          "name": "stdout"
        }
      ]
    },
    {
      "cell_type": "code",
      "metadata": {
        "colab": {
          "base_uri": "https://localhost:8080/"
        },
        "id": "oZpyaG8AIFRi",
        "outputId": "a7b65224-120b-4736-adcf-d5187331d519"
      },
      "source": [
        "# Write a Python Program to find largest element in an array?\n",
        "\n",
        "x = int(input())\n",
        "a = list(map(int, input().split()))[:x]\n",
        "print(max(a))"
      ],
      "execution_count": 7,
      "outputs": [
        {
          "output_type": "stream",
          "text": [
            "6\n",
            "4 7 8 3 9\n",
            "9\n"
          ],
          "name": "stdout"
        }
      ]
    },
    {
      "cell_type": "code",
      "metadata": {
        "colab": {
          "base_uri": "https://localhost:8080/"
        },
        "id": "ABKsPdXRIIHJ",
        "outputId": "58eddcd7-664e-466b-fb87-f483660f2117"
      },
      "source": [
        "# Write a Python Program for array rotation?\n",
        "\n",
        "x = int(input())\n",
        "a = list(map(int, input().split()))[:x]\n",
        "for i in range(len(a)):\n",
        "   b = a.pop()\n",
        "   a.insert(0, b)\n",
        "   print(a)"
      ],
      "execution_count": 9,
      "outputs": [
        {
          "output_type": "stream",
          "text": [
            "5\n",
            "4 7 8 3 9\n",
            "[9, 4, 7, 8, 3]\n",
            "[3, 9, 4, 7, 8]\n",
            "[8, 3, 9, 4, 7]\n",
            "[7, 8, 3, 9, 4]\n",
            "[4, 7, 8, 3, 9]\n"
          ],
          "name": "stdout"
        }
      ]
    },
    {
      "cell_type": "code",
      "metadata": {
        "colab": {
          "base_uri": "https://localhost:8080/"
        },
        "id": "Hipgb_ojIJrw",
        "outputId": "4e9c2fef-0515-48b7-a5a3-48c26cc309d1"
      },
      "source": [
        "# Write a Python Program to Split the array and add the first part to the end?\n",
        "\n",
        "def splitArr(arr, n, k): \n",
        "    for i in range(0, k): \n",
        "        x = arr[0]\n",
        "        for j in range(0, n-1):\n",
        "            arr[j] = arr[j + 1]\n",
        "          \n",
        "        arr[n-1] = x\n",
        "\n",
        "arr = [12, 10, 5, 6, 52, 36]\n",
        "n = len(arr)\n",
        "position = 2\n",
        "splitArr(arr, n, position)\n",
        "for i in range(0, n): \n",
        "    print(arr[i], end = ' ')"
      ],
      "execution_count": 10,
      "outputs": [
        {
          "output_type": "stream",
          "text": [
            "5 6 52 36 12 10 "
          ],
          "name": "stdout"
        }
      ]
    },
    {
      "cell_type": "code",
      "metadata": {
        "colab": {
          "base_uri": "https://localhost:8080/"
        },
        "id": "wtJDBkG4ILHA",
        "outputId": "c06b94e8-adb2-4f7a-b598-2ff9e8d25266"
      },
      "source": [
        "# Write a Python Program to check if given array is Monotonic?\n",
        "\n",
        "def isMonotonic(A):\n",
        "    return (all(A[i] <= A[i + 1] for i in range(len(A) - 1)) or\n",
        "            all(A[i] >= A[i + 1] for i in range(len(A) - 1)))\n",
        "n = int(input())\n",
        "A = list(map(int, input().split()))[:n]\n",
        "print(isMonotonic(A))"
      ],
      "execution_count": 11,
      "outputs": [
        {
          "output_type": "stream",
          "text": [
            "6\n",
            "2 4 56 7 8 4\n",
            "False\n"
          ],
          "name": "stdout"
        }
      ]
    },
    {
      "cell_type": "code",
      "metadata": {
        "id": "OoZH50-KIMjo"
      },
      "source": [
        ""
      ],
      "execution_count": null,
      "outputs": []
    }
  ]
}