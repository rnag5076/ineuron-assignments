{
  "nbformat": 4,
  "nbformat_minor": 0,
  "metadata": {
    "colab": {
      "name": "Assignment 10.ipynb",
      "provenance": []
    },
    "kernelspec": {
      "name": "python3",
      "display_name": "Python 3"
    },
    "language_info": {
      "name": "python"
    }
  },
  "cells": [
    {
      "cell_type": "code",
      "metadata": {
        "colab": {
          "base_uri": "https://localhost:8080/"
        },
        "id": "eSUt-iYdMDDY",
        "outputId": "d835f6d3-8770-4cb5-bd74-058544f69737"
      },
      "source": [
        "# Write a Python program to find sum of elements in list?\n",
        "\n",
        "a = [1,2,3,4]\n",
        "total = sum(a)\n",
        "print(total)"
      ],
      "execution_count": 1,
      "outputs": [
        {
          "output_type": "stream",
          "text": [
            "10\n"
          ],
          "name": "stdout"
        }
      ]
    },
    {
      "cell_type": "code",
      "metadata": {
        "colab": {
          "base_uri": "https://localhost:8080/"
        },
        "id": "_Q3603ihMQEP",
        "outputId": "c4c0ead2-3e69-41dd-9965-1223e80bec1a"
      },
      "source": [
        "# Write a Python program to Multiply all numbers in the list?\n",
        "\n",
        "import numpy\n",
        "a = [1,2,3,4]\n",
        "product = numpy.prod(a)\n",
        "print(product)"
      ],
      "execution_count": 2,
      "outputs": [
        {
          "output_type": "stream",
          "text": [
            "24\n"
          ],
          "name": "stdout"
        }
      ]
    },
    {
      "cell_type": "code",
      "metadata": {
        "colab": {
          "base_uri": "https://localhost:8080/"
        },
        "id": "WfyEutCtMRaJ",
        "outputId": "f8bdb0de-7338-42c1-d23f-bf3f55b57779"
      },
      "source": [
        "# Write a Python program to find smallest number in a list?\n",
        "\n",
        "a = [1,2,3,4]\n",
        "print(min(a))"
      ],
      "execution_count": 3,
      "outputs": [
        {
          "output_type": "stream",
          "text": [
            "1\n"
          ],
          "name": "stdout"
        }
      ]
    },
    {
      "cell_type": "code",
      "metadata": {
        "colab": {
          "base_uri": "https://localhost:8080/"
        },
        "id": "eookdl_rMTfp",
        "outputId": "7084e80e-7057-4da3-f1f0-3d27c3e6249b"
      },
      "source": [
        "# Write a Python program to find largest number in a list?\n",
        "\n",
        "a = [1,2,3,4]\n",
        "print(max(a))"
      ],
      "execution_count": 4,
      "outputs": [
        {
          "output_type": "stream",
          "text": [
            "4\n"
          ],
          "name": "stdout"
        }
      ]
    },
    {
      "cell_type": "code",
      "metadata": {
        "colab": {
          "base_uri": "https://localhost:8080/"
        },
        "id": "UMSLQNpvMUrB",
        "outputId": "273e497d-0e95-43cd-95a2-73c8d3192d01"
      },
      "source": [
        "# Write a Python program to find second largest number in a list?\n",
        "\n",
        "a = [1,2,3,4]\n",
        "x = max(a)\n",
        "a.remove(x)\n",
        "print(max(a))"
      ],
      "execution_count": 5,
      "outputs": [
        {
          "output_type": "stream",
          "text": [
            "3\n"
          ],
          "name": "stdout"
        }
      ]
    },
    {
      "cell_type": "code",
      "metadata": {
        "colab": {
          "base_uri": "https://localhost:8080/"
        },
        "id": "Sk6KoRSwMV3q",
        "outputId": "dccc6802-9613-45d5-c3b9-3c64dadb0b6c"
      },
      "source": [
        "# Write a Python program to find N largest elements from a list?\n",
        "\n",
        "l = [1000,298,3579,100,200,-45,900]\n",
        "n = 4\n",
        "l.sort()\n",
        "print(l[-n:])"
      ],
      "execution_count": 6,
      "outputs": [
        {
          "output_type": "stream",
          "text": [
            "[298, 900, 1000, 3579]\n"
          ],
          "name": "stdout"
        }
      ]
    },
    {
      "cell_type": "code",
      "metadata": {
        "colab": {
          "base_uri": "https://localhost:8080/"
        },
        "id": "OPCCW5yiMW4Z",
        "outputId": "50057e1e-318c-49bc-d163-31dd75ce3581"
      },
      "source": [
        "# Write a Python program to print even numbers in a list?\n",
        "\n",
        "a = [1,2,3,4]\n",
        "for i in a:\n",
        "  if i%2 == 0:\n",
        "    print(i)"
      ],
      "execution_count": 7,
      "outputs": [
        {
          "output_type": "stream",
          "text": [
            "2\n",
            "4\n"
          ],
          "name": "stdout"
        }
      ]
    },
    {
      "cell_type": "code",
      "metadata": {
        "colab": {
          "base_uri": "https://localhost:8080/"
        },
        "id": "APWCpaWXMYL5",
        "outputId": "2f1a6a4a-9518-49bb-e372-5be7bcc60c33"
      },
      "source": [
        "# Write a Python program to print odd numbers in a List?\n",
        "\n",
        "a = [1,2,3,4]\n",
        "for i in a:\n",
        "  if i%2 != 0:\n",
        "    print(i)"
      ],
      "execution_count": 8,
      "outputs": [
        {
          "output_type": "stream",
          "text": [
            "1\n",
            "3\n"
          ],
          "name": "stdout"
        }
      ]
    },
    {
      "cell_type": "code",
      "metadata": {
        "colab": {
          "base_uri": "https://localhost:8080/"
        },
        "id": "IYT6loqfMZVR",
        "outputId": "851c8173-c77f-4732-e4d8-064e7d11cf92"
      },
      "source": [
        "# Write a Python program to Remove empty List from List?\n",
        "\n",
        "test_list = [5, 6, [], 3, [], [], 9]\n",
        "a = []\n",
        "for i in test_list:\n",
        "  if i != []:\n",
        "    a.append(i)\n",
        "print(a)"
      ],
      "execution_count": 9,
      "outputs": [
        {
          "output_type": "stream",
          "text": [
            "[5, 6, 3, 9]\n"
          ],
          "name": "stdout"
        }
      ]
    },
    {
      "cell_type": "code",
      "metadata": {
        "colab": {
          "base_uri": "https://localhost:8080/"
        },
        "id": "bV2TzGAIMaoy",
        "outputId": "4393ab27-db77-4f99-a636-6c56a56bb301"
      },
      "source": [
        "# Write a Python program to Cloning or Copying a list?\n",
        "\n",
        "a = [1,2,3,4]\n",
        "b = a\n",
        "print(b)"
      ],
      "execution_count": 10,
      "outputs": [
        {
          "output_type": "stream",
          "text": [
            "[1, 2, 3, 4]\n"
          ],
          "name": "stdout"
        }
      ]
    },
    {
      "cell_type": "code",
      "metadata": {
        "colab": {
          "base_uri": "https://localhost:8080/"
        },
        "id": "rRiyBORHMbrx",
        "outputId": "66b19894-f53d-4b55-cbac-ac15d2c72dc0"
      },
      "source": [
        "# Write a Python program to Count occurrences of an element in a list?\n",
        "\n",
        "lst = [15, 6, 7, 10, 12, 20, 10, 28, 10]\n",
        "print(lst)\n",
        "x = int(input())\n",
        "count = 0\n",
        "for i in lst:\n",
        "  if i == x:\n",
        "    count += 1\n",
        "print(count)"
      ],
      "execution_count": 11,
      "outputs": [
        {
          "output_type": "stream",
          "text": [
            "[15, 6, 7, 10, 12, 20, 10, 28, 10]\n",
            "10\n",
            "3\n"
          ],
          "name": "stdout"
        }
      ]
    },
    {
      "cell_type": "code",
      "metadata": {
        "id": "nnY4NrGkMcBZ"
      },
      "source": [
        ""
      ],
      "execution_count": 11,
      "outputs": []
    }
  ]
}