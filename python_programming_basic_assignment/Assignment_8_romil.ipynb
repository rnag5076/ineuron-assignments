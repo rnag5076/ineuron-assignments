{
  "nbformat": 4,
  "nbformat_minor": 0,
  "metadata": {
    "colab": {
      "name": "Assignment 8.ipynb",
      "provenance": []
    },
    "kernelspec": {
      "name": "python3",
      "display_name": "Python 3"
    },
    "language_info": {
      "name": "python"
    }
  },
  "cells": [
    {
      "cell_type": "code",
      "metadata": {
        "colab": {
          "base_uri": "https://localhost:8080/"
        },
        "id": "FjMqW-yTJV1n",
        "outputId": "5197a0d4-574a-442c-e275-997f7c5df045"
      },
      "source": [
        "# Write a Python Program to Add Two Matrices?\n",
        "\n",
        "n, m = input().split()\n",
        "n = int(n)\n",
        "m = int(m)\n",
        "a = []\n",
        "b = []\n",
        "c = []\n",
        "for i in range(n):\n",
        "  x = []\n",
        "  for j in range(m):\n",
        "    x.append(int(input()))\n",
        "  a.append(x)\n",
        "    \n",
        "for i in range(n):\n",
        "  y = []\n",
        "  for j in range(m):\n",
        "    y.append(int(input()))\n",
        "  b.append(y)\n",
        "\n",
        "for i in range(n):\n",
        "  z = []\n",
        "  for j in range(m):\n",
        "    z.append(a[i][j] + b[i][j])\n",
        "  c.append(z)\n",
        "\n",
        "print(c)"
      ],
      "execution_count": 7,
      "outputs": [
        {
          "output_type": "stream",
          "text": [
            "2 2\n",
            "1\n",
            "2\n",
            "3\n",
            "4\n",
            "5\n",
            "6\n",
            "7\n",
            "8\n",
            "[[6, 8], [10, 12]]\n"
          ],
          "name": "stdout"
        }
      ]
    },
    {
      "cell_type": "code",
      "metadata": {
        "colab": {
          "base_uri": "https://localhost:8080/"
        },
        "id": "eXK5C_ouJaRl",
        "outputId": "e8174a0a-54c3-4804-de02-567486066bf2"
      },
      "source": [
        "# Write a Python Program to Multiply Two Matrices?\n",
        "\n",
        "n, m = input().split()\n",
        "n = int(n)\n",
        "m = int(m)\n",
        "a = []\n",
        "b = []\n",
        "c = []\n",
        "for i in range(n):\n",
        "  x = []\n",
        "  for j in range(m):\n",
        "    x.append(int(input()))\n",
        "  a.append(x)\n",
        "    \n",
        "for i in range(n):\n",
        "  y = []\n",
        "  for j in range(m):\n",
        "    y.append(int(input()))\n",
        "  b.append(y)\n",
        "\n",
        "for i in range(n):\n",
        "  z = []\n",
        "  for j in range(m):\n",
        "    z.append(a[i][j] * b[i][j])\n",
        "  c.append(z)\n",
        "\n",
        "print(c)"
      ],
      "execution_count": 8,
      "outputs": [
        {
          "output_type": "stream",
          "text": [
            "2 2\n",
            "1\n",
            "2\n",
            "3\n",
            "4\n",
            "5\n",
            "6\n",
            "7\n",
            "8\n",
            "[[5, 12], [21, 32]]\n"
          ],
          "name": "stdout"
        }
      ]
    },
    {
      "cell_type": "code",
      "metadata": {
        "colab": {
          "base_uri": "https://localhost:8080/"
        },
        "id": "hbR2fmtkJeIh",
        "outputId": "a538330b-adb2-4245-a1e7-44adcf63b7b3"
      },
      "source": [
        "# Write a Python Program to Transpose a Matrix?\n",
        "\n",
        "n, m = input().split()\n",
        "n = int(n)\n",
        "m = int(m)\n",
        "a = []\n",
        "b = [[0 for x in range(n)] for y in range(m)]\n",
        "for i in range(n):\n",
        "  x = []\n",
        "  for j in range(m):\n",
        "    x.append(int(input()))\n",
        "  a.append(x)\n",
        "\n",
        "for i in range(m):\n",
        "  for j in range(n):\n",
        "    b[i][j] = a[j][i]\n",
        "\n",
        "print(b)"
      ],
      "execution_count": 9,
      "outputs": [
        {
          "output_type": "stream",
          "text": [
            "2 2\n",
            "4\n",
            "5\n",
            "7\n",
            "8\n",
            "[[4, 7], [5, 8]]\n"
          ],
          "name": "stdout"
        }
      ]
    },
    {
      "cell_type": "code",
      "metadata": {
        "colab": {
          "base_uri": "https://localhost:8080/"
        },
        "id": "l5_KeH7GJfnA",
        "outputId": "43a7a9c4-2caa-4519-ae2a-56012449b397"
      },
      "source": [
        "# Write a Python Program to Sort Words in Alphabetic Order?\n",
        "\n",
        "x = int(input())\n",
        "a = []\n",
        "for i in range(x):\n",
        "  a.append(input())\n",
        "a.sort()\n",
        "print(a)"
      ],
      "execution_count": 10,
      "outputs": [
        {
          "output_type": "stream",
          "text": [
            "5\n",
            "rainbow\n",
            "witch\n",
            "rain\n",
            "word\n",
            "algebra\n",
            "['algebra', 'rain', 'rainbow', 'witch', 'word']\n"
          ],
          "name": "stdout"
        }
      ]
    },
    {
      "cell_type": "code",
      "metadata": {
        "colab": {
          "base_uri": "https://localhost:8080/"
        },
        "id": "Zj6o4ooDJhKh",
        "outputId": "cfe236d8-ada2-4533-e9b6-753a3e7a4490"
      },
      "source": [
        "# Write a Python Program to Remove Punctuation From a String?\n",
        "\n",
        "import string\n",
        "sent = input()\n",
        "a = ''\n",
        "for i in sent:\n",
        "  if i not in string.punctuation:\n",
        "    a = a + i\n",
        "\n",
        "print(a)"
      ],
      "execution_count": 11,
      "outputs": [
        {
          "output_type": "stream",
          "text": [
            "Hey! My name,  is @Romil. Nagar$\n",
            "Hey My name  is Romil Nagar\n"
          ],
          "name": "stdout"
        }
      ]
    },
    {
      "cell_type": "code",
      "metadata": {
        "id": "LmXrZi_tJihA"
      },
      "source": [
        ""
      ],
      "execution_count": null,
      "outputs": []
    }
  ]
}