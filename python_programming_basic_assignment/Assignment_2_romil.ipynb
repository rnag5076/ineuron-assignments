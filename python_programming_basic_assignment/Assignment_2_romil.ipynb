{
  "nbformat": 4,
  "nbformat_minor": 0,
  "metadata": {
    "colab": {
      "name": "Assignment 2.ipynb",
      "provenance": []
    },
    "kernelspec": {
      "name": "python3",
      "display_name": "Python 3"
    },
    "language_info": {
      "name": "python"
    }
  },
  "cells": [
    {
      "cell_type": "code",
      "metadata": {
        "colab": {
          "base_uri": "https://localhost:8080/"
        },
        "id": "-pC-iz3uBdvz",
        "outputId": "ca14270f-47e0-42ee-b0d6-02fb70336cbe"
      },
      "source": [
        "# Write a Python program to convert kilometers to miles?\n",
        "\n",
        "km = int(input())\n",
        "miles = km * 0.621371\n",
        "print('miles =', miles)"
      ],
      "execution_count": 6,
      "outputs": [
        {
          "output_type": "stream",
          "text": [
            "56\n",
            "miles = 34.796776\n"
          ],
          "name": "stdout"
        }
      ]
    },
    {
      "cell_type": "code",
      "metadata": {
        "colab": {
          "base_uri": "https://localhost:8080/"
        },
        "id": "rWH1-3_BBjF5",
        "outputId": "a564c161-eaa9-432e-e8e7-496258b60b27"
      },
      "source": [
        "# Write a Python program to convert Celsius to Fahrenheit?\n",
        "\n",
        "cel = int(input())\n",
        "fahren = (cel * 9/5) + 32\n",
        "print('fahrenheit = ', fahren)"
      ],
      "execution_count": 7,
      "outputs": [
        {
          "output_type": "stream",
          "text": [
            "101\n",
            "fahrenheit =  213.8\n"
          ],
          "name": "stdout"
        }
      ]
    },
    {
      "cell_type": "code",
      "metadata": {
        "colab": {
          "base_uri": "https://localhost:8080/"
        },
        "id": "StcQExMwBlJP",
        "outputId": "7e6fe798-f290-4cb1-949f-7eca4938126c"
      },
      "source": [
        "# Write a Python program to display calendar?\n",
        "\n",
        "import calendar\n",
        "yy = int(input(\"Enter year: \"))\n",
        "mm = int(input(\"Enter month: \"))\n",
        "# display the calendar\n",
        "print(calendar.month(yy, mm))"
      ],
      "execution_count": 8,
      "outputs": [
        {
          "output_type": "stream",
          "text": [
            "Enter year: 2021\n",
            "Enter month: 6\n",
            "     June 2021\n",
            "Mo Tu We Th Fr Sa Su\n",
            "    1  2  3  4  5  6\n",
            " 7  8  9 10 11 12 13\n",
            "14 15 16 17 18 19 20\n",
            "21 22 23 24 25 26 27\n",
            "28 29 30\n",
            "\n"
          ],
          "name": "stdout"
        }
      ]
    },
    {
      "cell_type": "code",
      "metadata": {
        "colab": {
          "base_uri": "https://localhost:8080/"
        },
        "id": "fDl1ktVJBnGP",
        "outputId": "7b0d6748-68f7-422c-f56e-ce67eaab46f0"
      },
      "source": [
        "# Write a Python program to solve quadratic equation?\n",
        "\n",
        "import cmath\n",
        "a = int(input())\n",
        "b = int(input())\n",
        "c = int(input())\n",
        "d = ((b**2) - (4*a*c))\n",
        "sol1 = (-b - cmath.sqrt(d))/(2*a)\n",
        "sol2 = (-b + cmath.sqrt(d))/(2*a)\n",
        "print('The solution of the above qudratic eequation are {0} and {1}'.format(sol1,sol2))"
      ],
      "execution_count": 13,
      "outputs": [
        {
          "output_type": "stream",
          "text": [
            "1\n",
            "5\n",
            "6\n",
            "The solution of the above qudratic eequation are (-3+0j) and (-2+0j)\n"
          ],
          "name": "stdout"
        }
      ]
    },
    {
      "cell_type": "code",
      "metadata": {
        "colab": {
          "base_uri": "https://localhost:8080/"
        },
        "id": "oSP7QuN9Bovv",
        "outputId": "1a456a37-6d78-46dc-def0-01a86c95a31e"
      },
      "source": [
        "# Write a Python program to swap two variables without temp variable?\n",
        "\n",
        "x = 5\n",
        "y = 10\n",
        "x, y = y, x\n",
        "print(\"x =\", x)\n",
        "print(\"y =\", y)"
      ],
      "execution_count": 14,
      "outputs": [
        {
          "output_type": "stream",
          "text": [
            "x = 10\n",
            "y = 5\n"
          ],
          "name": "stdout"
        }
      ]
    },
    {
      "cell_type": "code",
      "metadata": {
        "id": "BB0ISOxcBqye"
      },
      "source": [
        ""
      ],
      "execution_count": null,
      "outputs": []
    }
  ]
}